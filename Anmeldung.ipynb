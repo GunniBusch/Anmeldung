{
 "cells": [
  {
   "cell_type": "code",
   "execution_count": 1,
   "id": "efc43552",
   "metadata": {},
   "outputs": [
    {
     "name": "stdout",
     "output_type": "stream",
     "text": [
      "FOUNDDD!! Termin am 21.4.2022 reservieren\n",
      "FOUNDDD!! Termin am 22.4.2022 reservieren\n",
      "FOUNDDD!! Termin am 25.4.2022 reservieren\n",
      "FOUNDDD!! Termin am 26.4.2022 reservieren\n",
      "FOUNDDD!! Termin am 27.4.2022 reservieren\n",
      "FOUNDDD!! Termin am 28.4.2022 reservieren\n",
      "FOUNDDD!! Termin am 29.4.2022 reservieren\n"
     ]
    }
   ],
   "source": [
    "from selenium import webdriver\n",
    "from selenium.webdriver.chrome.service import Service\n",
    "from selenium.webdriver.support.ui import Select\n",
    "import time \n",
    "from selenium.webdriver.common.by import By\n",
    "from discordwebhook import Discord\n",
    "import datetime\n",
    "\n",
    "# Create webhook object\n",
    "discord = Discord(url='webhook')\n",
    "\n",
    "# Create webdriver\n",
    "s = Service(\"C:\\\\Users\\\\ASUS\\\\Desktop\\\\chromedriver.exe\")\n",
    "driver = webdriver.Chrome(service=s)\n",
    "driver.maximize_window()\n",
    "\n",
    "# Go to the main page\n",
    "driver.get('https://stadt.muenchen.de/terminvereinbarung_/terminvereinbarung_bb.html')\n",
    "\n",
    "# Change frame\n",
    "framLogin= driver.find_element(By.ID,\"appointment\")\n",
    "driver.switch_to.frame(framLogin)\n",
    "\n",
    "# Select 1 individual and submit\n",
    "button = driver.find_element(By.XPATH,\"//*[@id='F00e214c9f52bf4cddab8ebc9bbb11b2b']/fieldset/a[1]\").click()\n",
    "search = driver.find_element(By.XPATH,\"//select\")\n",
    "select = Select(search)\n",
    "select.select_by_index(1)\n",
    "driver.find_element(By.XPATH,'//*[@id=\"F00e214c9f52bf4cddab8ebc9bbb11b2b\"]/fieldset/input[2]').submit()\n",
    "\n",
    "# Search for bookable dates\n",
    "found = 0\n",
    "while found==0:\n",
    "    # Refresh the page\n",
    "    button = driver.find_elements(By.XPATH,'//*[@id=\"bb_link\"]')\n",
    "    if len(button) ==0:\n",
    "        button = driver.find_elements(By.XPATH,'//*[@id=\"bb1_link\"]')\n",
    "    button[0].click()\n",
    "    \n",
    "    # Get bookable dates\n",
    "    bookables=driver.find_elements(By.CLASS_NAME,'nat_calendar_weekday_bookable')\n",
    "    output=\"\"        \n",
    "    # Iterate through each bookable date\n",
    "    for index,elem in enumerate(bookables):\n",
    "        text = elem.get_attribute(\"textContent\")\n",
    "\n",
    "        output+= f\"{datetime.datetime.now().strftime('%H:%M')}\"\n",
    "        output+= f\"\\n{text}\\n\"\n",
    "        \n",
    "        # Check if there is unwanted date\n",
    "        not_wanted = [\"10.4.2022\",\"11.4.2022\",\"12.4.2022\",\"13.4.2022\",\"14.4.2022\",\"15.4.2022\"]\n",
    "        not_wanted_in_text = False\n",
    "        for item in not_wanted:\n",
    "            if item in text:\n",
    "                not_wanted_in_text= True\n",
    "        \n",
    "        # Control if the date is desired date\n",
    "        if \"4.2022\" in text and not not_wanted_in_text:\n",
    "            found=1\n",
    "            print(\"FOUNDDD!!\",text)\n",
    "            discord.post(content=f\"Found an appointment - {output} \")\n",
    "    time.sleep(3) \n"
   ]
  },
  {
   "cell_type": "code",
   "execution_count": null,
   "id": "01f30cfb",
   "metadata": {},
   "outputs": [],
   "source": []
  },
  {
   "cell_type": "code",
   "execution_count": 147,
   "id": "b84b8da2",
   "metadata": {},
   "outputs": [
    {
     "data": {
      "text/plain": [
       "<Response [204]>"
      ]
     },
     "execution_count": 147,
     "metadata": {},
     "output_type": "execute_result"
    }
   ],
   "source": [
    "\n",
 
    "\n",
    "privacy"
   ]
  },
  {
   "cell_type": "code",
   "execution_count": null,
   "id": "c5c1c508",
   "metadata": {},
   "outputs": [],
   "source": [
    "\n"
   ]
  },
  {
   "cell_type": "code",
   "execution_count": null,
   "id": "7b71f6bc",
   "metadata": {},
   "outputs": [],
   "source": []
  }
 ],
 "metadata": {
  "kernelspec": {
   "display_name": "Python 3",
   "language": "python",
   "name": "python3"
  },
  "language_info": {
   "codemirror_mode": {
    "name": "ipython",
    "version": 3
   },
   "file_extension": ".py",
   "mimetype": "text/x-python",
   "name": "python",
   "nbconvert_exporter": "python",
   "pygments_lexer": "ipython3",
   "version": "3.8.8"
  }
 },
 "nbformat": 4,
 "nbformat_minor": 5
}
