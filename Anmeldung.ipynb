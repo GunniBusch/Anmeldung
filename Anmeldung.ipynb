{
 "cells": [
  {
   "cell_type": "code",
   "execution_count": 2,
   "id": "efc43552",
   "metadata": {
    "pycharm": {
     "name": "#%%\n"
    }
   },
   "outputs": [
    {
     "name": "stdout",
     "output_type": "stream",
     "text": [
      "FOUNDDD!! Termin am 2022-08-22 reservieren! Ort: Bürgerbüro Ruppertstraße\n",
      "FOUNDDD!! Termin am 2022-08-23 reservieren! Ort: Bürgerbüro Ruppertstraße\n",
      "FOUNDDD!! Termin am 2022-08-24 reservieren! Ort: Bürgerbüro Ruppertstraße\n",
      "FOUNDDD!! Termin am 2022-08-25 reservieren! Ort: Bürgerbüro Ruppertstraße\n",
      "FOUNDDD!! Termin am 2022-08-26 reservieren! Ort: Bürgerbüro Ruppertstraße\n",
      "FOUNDDD!! Termin am 2022-08-22 reservieren! Ort: Bürgerbüro Pasing\n",
      "FOUNDDD!! Termin am 2022-08-23 reservieren! Ort: Bürgerbüro Pasing\n",
      "FOUNDDD!! Termin am 2022-08-24 reservieren! Ort: Bürgerbüro Pasing\n",
      "FOUNDDD!! Termin am 2022-08-25 reservieren! Ort: Bürgerbüro Pasing\n",
      "FOUNDDD!! Termin am 2022-08-26 reservieren! Ort: Bürgerbüro Pasing\n",
      "FOUNDDD!! Termin am 2022-08-22 reservieren! Ort: Bürgerbüro Leonrodstraße\n",
      "FOUNDDD!! Termin am 2022-08-23 reservieren! Ort: Bürgerbüro Leonrodstraße\n",
      "FOUNDDD!! Termin am 2022-08-24 reservieren! Ort: Bürgerbüro Leonrodstraße\n",
      "FOUNDDD!! Termin am 2022-08-25 reservieren! Ort: Bürgerbüro Leonrodstraße\n",
      "FOUNDDD!! Termin am 2022-08-26 reservieren! Ort: Bürgerbüro Leonrodstraße\n",
      "FOUNDDD!! Termin am 2022-08-22 reservieren! Ort: Bürgerbüro Riesenfeldstraße\n",
      "FOUNDDD!! Termin am 2022-08-23 reservieren! Ort: Bürgerbüro Riesenfeldstraße\n",
      "FOUNDDD!! Termin am 2022-08-24 reservieren! Ort: Bürgerbüro Riesenfeldstraße\n",
      "FOUNDDD!! Termin am 2022-08-25 reservieren! Ort: Bürgerbüro Riesenfeldstraße\n",
      "FOUNDDD!! Termin am 2022-08-26 reservieren! Ort: Bürgerbüro Riesenfeldstraße\n",
      "FOUNDDD!! Termin am 2022-08-22 reservieren! Ort: Bürgerbüro Orleansstraße\n",
      "FOUNDDD!! Termin am 2022-08-23 reservieren! Ort: Bürgerbüro Orleansstraße\n",
      "FOUNDDD!! Termin am 2022-08-24 reservieren! Ort: Bürgerbüro Orleansstraße\n",
      "FOUNDDD!! Termin am 2022-08-25 reservieren! Ort: Bürgerbüro Orleansstraße\n",
      "FOUNDDD!! Termin am 2022-08-26 reservieren! Ort: Bürgerbüro Orleansstraße\n"
     ]
    }
   ],
   "source": [
    "import requests\n",
    "import re\n",
    "import json\n",
    "import time\n",
    "from discordwebhook import Discord\n",
    "import datetime\n",
    "\n",
    "\n",
    "def getData(persAmmount):\n",
    "    # Url for the offices other than Ruppertstraße\n",
    "    url_other = \"https://terminvereinbarung.muenchen.de/bba/termin/index.php?loc=BB\"\n",
    "    # Url for Ruppertstraße\n",
    "    url = \"https://www22.muenchen.de/kvr/termin/index.php?cts=1064399=1\"\n",
    "    # Number of appointments for singular person\n",
    "    einzPersAnz = persAmmount\n",
    "    # For family\n",
    "    famAnz = 0\n",
    "    # Payload\n",
    "    payload = f\"step=WEB_APPOINT_SEARCH_BY_CASETYPES&CASETYPES%5BAn-%20oder%20Ummeldung%20-%20Einzelperson%5D={einzPersAnz}&CASETYPES%5BAn-%20oder%20Ummeldung%20-%20Einzelperson%20mit%20eigenen%20Fahrzeugen%5D=0&CASETYPES%5BAn-%20oder%20Ummeldung%20-%20Familie%5D={famAnz}&CASETYPES%5BAn-%20oder%20Ummeldung%20-%20Familie%20mit%20eigenen%20Fahrzeugen%5D=0&CASETYPES%5BMeldebescheinigung%5D=0&CASETYPES%5BHaushaltsbescheinigung%5D=0&CASETYPES%5BFamilienstands%C3%A4nderung%2F%20Namens%C3%A4nderung%5D=0&CASETYPES%5BAntrag%20Personalausweis%5D=0&CASETYPES%5BAntrag%20Reisepass%2FExpressreisepass%5D=0&CASETYPES%5BAntrag%20vorl%C3%A4ufiger%20Reisepass%5D=0&CASETYPES%5BAntrag%20oder%20Verl%C3%A4ngerung%2FAktualisierung%20Kinderreisepass%5D=0&CASETYPES%5BAusweisdokumente%20-%20Familie%20(Minderj%C3%A4hrige%20und%20deren%20gesetzliche%20Vertreter)%5D=0&CASETYPES%5BeID-Karte%20beantragen%20(EU%2FEWR)%5D=0&CASETYPES%5BNachtr%C3%A4gliche%20Anschriften%C3%A4nderung%20Personalausweis%2FReisepass%2FeAT%5D=0&CASETYPES%5BNachtr%C3%A4gliches%20Einschalten%20eID%20%2F%20Nachtr%C3%A4gliche%20%C3%84nderung%20PIN%5D=0&CASETYPES%5BWiderruf%20der%20Verlust-%20oder%20Diebstahlanzeige%20von%20Personalausweis%20oder%20Reisepass%5D=0&CASETYPES%5BVerlust-%20oder%20Diebstahlanzeige%20von%20Personalausweis%5D=0&CASETYPES%5BVerlust-%20oder%20Diebstahlanzeige%20von%20Reisepass%5D=0&CASETYPES%5BPersonalausweis%2C%20Reisepass%20oder%20eID-Karte%20abholen%5D=0&CASETYPES%5BF%C3%BChrungszeugnis%20beantragen%5D=0&CASETYPES%5BGewerbezentralregisterauskunft%20beantragen%20%E2%80%93%20nat%C3%BCrliche%20Person%5D=0&CASETYPES%5BGewerbezentralregisterauskunft%20beantragen%20%E2%80%93%20juristische%20Person%5D=0&CASETYPES%5BBis%20zu%205%20Beglaubigungen%20Unterschrift%5D=0&CASETYPES%5BBis%20zu%205%20Beglaubigungen%20Dokument%5D=0&CASETYPES%5BBis%20zu%2020%20Beglaubigungen%5D=0&CASETYPES%5BFahrzeug%20wieder%20anmelden%5D=0&CASETYPES%5BFahrzeug%20au%C3%9Fer%20Betrieb%20setzen%5D=0&CASETYPES%5BAdress%C3%A4nderung%20in%20Fahrzeugpapiere%20eintragen%20lassen%5D=0&CASETYPES%5BNamens%C3%A4nderung%20in%20Fahrzeugpapiere%20eintragen%20lassen%5D=0\"\n",
    "\n",
    "    # start session for web requests\n",
    "    with requests.Session() as s:\n",
    "        headers = {\"Content-Type\": \"application/x-www-form-urlencoded\"}\n",
    "        # get phpsessid\n",
    "        s.get(url)\n",
    "        # cookie = s.cookies\n",
    "\n",
    "        # this is only for getting appointments in the Ruppertstraße\n",
    "        r = s.post(\n",
    "            \"https://www22.muenchen.de/kvr/termin/index.php?cts=1064399=1\",\n",
    "            data=payload,\n",
    "            headers=headers,\n",
    "        )\n",
    "\n",
    "        rawHTMLRuppert = str(r.content.decode())\n",
    "        # get phpsessid\n",
    "        s.get(url_other)\n",
    "        # cookie = s.cookies\n",
    "        # this is for getting appointments in the other Offices\n",
    "\n",
    "        r = s.post(\n",
    "            \"https://terminvereinbarung.muenchen.de/bba/termin/index.php?loc=BB\",\n",
    "            data=payload,\n",
    "            headers=headers,\n",
    "        )\n",
    "        rawHTMLOther = str(r.content.decode())\n",
    "\n",
    "    # convert to better format\n",
    "    finderRuppert = re.findall(r\"jsonAppoints = .*;\", rawHTMLRuppert)[0][16:-2]\n",
    "    finderOther = re.findall(r\"jsonAppoints = .*;\", rawHTMLOther)[0][16:-2]\n",
    "\n",
    "    jDates = dict(json.loads(finderRuppert))\n",
    "    # Merge together\n",
    "    jDates.update(dict(json.loads(finderOther)))\n",
    "\n",
    "    return jDates\n",
    "\n",
    "\n",
    "# Create webhook object\n",
    "discord = Discord(url=\"your_webhook_link\")\n",
    "show_appointment_time = True\n",
    "preferred_location = None\n",
    "# Search for bookable dates\n",
    "found = 0\n",
    "while found == 0:\n",
    "    # Refresh the page\n",
    "    bookables = getData(1)\n",
    "    # Iterate through each bookable date\n",
    "    for elem in bookables:\n",
    "        appointments = bookables[elem][\"appoints\"]\n",
    "        name = bookables[elem][\"caption\"]\n",
    "        # Check if there is unwanted date (Format: year-month-day)\n",
    "        not_wanted = [\"2022-08-22\"]\n",
    "        wanted = \"2022-08\"\n",
    "        for appointment in appointments:\n",
    "            # Control if the date is desired date\n",
    "            if (\n",
    "                len(appointments[appointment]) > 0\n",
    "                and wanted in appointment\n",
    "                and appointment not in not_wanted\n",
    "            ):\n",
    "                found = 1\n",
    "                print(\"FOUNDDD!!\", f\"Termin am {appointment} reservieren! Ort: {name}\")\n",
    "                if show_appointment_time:\n",
    "                    print(appointments[appointment])\n",
    "                discord.post(\n",
    "                    content=f\"Found an appointment - Date: {appointment}, Place: {name} \"\n",
    "                )\n",
    "    time.sleep(3)\n"
   ]
  },
  {
   "cell_type": "code",
   "execution_count": null,
   "id": "01f30cfb",
   "metadata": {
    "pycharm": {
     "name": "#%%\n"
    }
   },
   "outputs": [],
   "source": []
  },
  {
   "cell_type": "code",
   "execution_count": 147,
   "id": "b84b8da2",
   "metadata": {
    "pycharm": {
     "name": "#%%\n"
    }
   },
   "outputs": [
    {
     "data": {
      "text/plain": [
       "<Response [204]>"
      ]
     },
     "execution_count": 147,
     "metadata": {},
     "output_type": "execute_result"
    }
   ],
   "source": [
    "\n",
    "\n",
    "privacy"
   ]
  },
  {
   "cell_type": "code",
   "execution_count": null,
   "id": "c5c1c508",
   "metadata": {
    "pycharm": {
     "name": "#%%\n"
    }
   },
   "outputs": [],
   "source": [
    "\n"
   ]
  },
  {
   "cell_type": "code",
   "execution_count": null,
   "id": "7b71f6bc",
   "metadata": {
    "pycharm": {
     "name": "#%%\n"
    }
   },
   "outputs": [],
   "source": []
  }
 ],
 "metadata": {
  "kernelspec": {
   "display_name": "Python 3.8.8 ('base')",
   "language": "python",
   "name": "python3"
  },
  "language_info": {
   "codemirror_mode": {
    "name": "ipython",
    "version": 3
   },
   "file_extension": ".py",
   "mimetype": "text/x-python",
   "name": "python",
   "nbconvert_exporter": "python",
   "pygments_lexer": "ipython3",
   "version": "3.8.8"
  },
  "vscode": {
   "interpreter": {
    "hash": "7d6c377208b8712a8ec9e315eeefbc45cf2042b663e98b1f410e92bf5ec641a9"
   }
  }
 },
 "nbformat": 4,
 "nbformat_minor": 5
}
